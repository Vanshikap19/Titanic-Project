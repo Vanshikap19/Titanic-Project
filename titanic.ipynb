{
 "cells": [
  {
   "cell_type": "code",
   "execution_count": 6,
   "id": "9c10d0ee",
   "metadata": {
    "_cell_guid": "b1076dfc-b9ad-4769-8c92-a6c4dae69d19",
    "_uuid": "8f2839f25d086af736a60e9eeb907d3b93b6e0e5",
    "execution": {
     "iopub.execute_input": "2021-09-04T11:17:14.146671Z",
     "iopub.status.busy": "2021-09-04T11:17:14.142183Z",
     "iopub.status.idle": "2021-09-04T11:17:14.155690Z",
     "shell.execute_reply": "2021-09-04T11:17:14.154759Z",
     "shell.execute_reply.started": "2021-09-04T10:42:59.637877Z"
    },
    "papermill": {
     "duration": 0.05512,
     "end_time": "2021-09-04T11:17:14.155892",
     "exception": false,
     "start_time": "2021-09-04T11:17:14.100772",
     "status": "completed"
    },
    "tags": []
   },
   "outputs": [],
   "source": [
    "# This Python 3 environment comes with many helpful analytics libraries installed\n",
    "# It is defined by the kaggle/python Docker image: https://github.com/kaggle/docker-python\n",
    "# For example, here's several helpful packages to load\n",
    "\n",
    "import numpy as np # linear algebra\n",
    "import pandas as pd # data processing, CSV file I/O (e.g. pd.read_csv)\n",
    "\n",
    "# Input data files are available in the read-only \"../input/\" directory\n",
    "# For example, running this (by clicking run or pressing Shift+Enter) will list all files under the input directory\n",
    "\n",
    "import os\n",
    "for dirname, _, filenames in os.walk('/kaggle/input'):\n",
    "    for filename in filenames:\n",
    "        print(os.path.join(dirname, filename))\n",
    "\n",
    "# You can write up to 20GB to the current directory (/kaggle/working/) that gets preserved as output when you create a version using \"Save & Run All\" \n",
    "# You can also write temporary files to /kaggle/temp/, but they won't be saved outside of the current session"
   ]
  },
  {
   "cell_type": "code",
   "execution_count": 7,
   "id": "e754246f",
   "metadata": {
    "execution": {
     "iopub.execute_input": "2021-09-04T11:17:14.221643Z",
     "iopub.status.busy": "2021-09-04T11:17:14.220931Z",
     "iopub.status.idle": "2021-09-04T11:17:15.407705Z",
     "shell.execute_reply": "2021-09-04T11:17:15.406782Z",
     "shell.execute_reply.started": "2021-09-04T10:42:59.9682Z"
    },
    "papermill": {
     "duration": 1.222055,
     "end_time": "2021-09-04T11:17:15.407868",
     "exception": false,
     "start_time": "2021-09-04T11:17:14.185813",
     "status": "completed"
    },
    "tags": []
   },
   "outputs": [],
   "source": [
    "#importing all the libararies\n",
    "import matplotlib.pyplot as plt\n",
    "import seaborn as sns\n",
    "%matplotlib inline"
   ]
  },
  {
   "cell_type": "code",
   "execution_count": 8,
   "id": "7301c247",
   "metadata": {
    "execution": {
     "iopub.execute_input": "2021-09-04T11:17:15.472788Z",
     "iopub.status.busy": "2021-09-04T11:17:15.472098Z",
     "iopub.status.idle": "2021-09-04T11:17:15.506575Z",
     "shell.execute_reply": "2021-09-04T11:17:15.506016Z",
     "shell.execute_reply.started": "2021-09-04T10:43:00.21552Z"
    },
    "papermill": {
     "duration": 0.069344,
     "end_time": "2021-09-04T11:17:15.506744",
     "exception": false,
     "start_time": "2021-09-04T11:17:15.437400",
     "status": "completed"
    },
    "tags": []
   },
   "outputs": [],
   "source": [
    "#importing the training data and the testing data\n",
    "train_data = pd.read_csv('train.csv')\n",
    "test_data=pd.read_csv('test.csv')"
   ]
  },
  {
   "cell_type": "code",
   "execution_count": 9,
   "id": "93b03ec8",
   "metadata": {
    "execution": {
     "iopub.execute_input": "2021-09-04T11:17:15.577756Z",
     "iopub.status.busy": "2021-09-04T11:17:15.575581Z",
     "iopub.status.idle": "2021-09-04T11:17:15.606665Z",
     "shell.execute_reply": "2021-09-04T11:17:15.605844Z",
     "shell.execute_reply.started": "2021-09-04T10:43:00.462485Z"
    },
    "papermill": {
     "duration": 0.071065,
     "end_time": "2021-09-04T11:17:15.606867",
     "exception": false,
     "start_time": "2021-09-04T11:17:15.535802",
     "status": "completed"
    },
    "tags": []
   },
   "outputs": [
    {
     "data": {
      "text/html": [
       "<div>\n",
       "<style scoped>\n",
       "    .dataframe tbody tr th:only-of-type {\n",
       "        vertical-align: middle;\n",
       "    }\n",
       "\n",
       "    .dataframe tbody tr th {\n",
       "        vertical-align: top;\n",
       "    }\n",
       "\n",
       "    .dataframe thead th {\n",
       "        text-align: right;\n",
       "    }\n",
       "</style>\n",
       "<table border=\"1\" class=\"dataframe\">\n",
       "  <thead>\n",
       "    <tr style=\"text-align: right;\">\n",
       "      <th></th>\n",
       "      <th>PassengerId</th>\n",
       "      <th>Survived</th>\n",
       "      <th>Pclass</th>\n",
       "      <th>Name</th>\n",
       "      <th>Sex</th>\n",
       "      <th>Age</th>\n",
       "      <th>SibSp</th>\n",
       "      <th>Parch</th>\n",
       "      <th>Ticket</th>\n",
       "      <th>Fare</th>\n",
       "      <th>Cabin</th>\n",
       "      <th>Embarked</th>\n",
       "    </tr>\n",
       "  </thead>\n",
       "  <tbody>\n",
       "    <tr>\n",
       "      <th>0</th>\n",
       "      <td>1</td>\n",
       "      <td>0</td>\n",
       "      <td>3</td>\n",
       "      <td>Braund, Mr. Owen Harris</td>\n",
       "      <td>male</td>\n",
       "      <td>22.0</td>\n",
       "      <td>1</td>\n",
       "      <td>0</td>\n",
       "      <td>A/5 21171</td>\n",
       "      <td>7.2500</td>\n",
       "      <td>NaN</td>\n",
       "      <td>S</td>\n",
       "    </tr>\n",
       "    <tr>\n",
       "      <th>1</th>\n",
       "      <td>2</td>\n",
       "      <td>1</td>\n",
       "      <td>1</td>\n",
       "      <td>Cumings, Mrs. John Bradley (Florence Briggs Th...</td>\n",
       "      <td>female</td>\n",
       "      <td>38.0</td>\n",
       "      <td>1</td>\n",
       "      <td>0</td>\n",
       "      <td>PC 17599</td>\n",
       "      <td>71.2833</td>\n",
       "      <td>C85</td>\n",
       "      <td>C</td>\n",
       "    </tr>\n",
       "    <tr>\n",
       "      <th>2</th>\n",
       "      <td>3</td>\n",
       "      <td>1</td>\n",
       "      <td>3</td>\n",
       "      <td>Heikkinen, Miss. Laina</td>\n",
       "      <td>female</td>\n",
       "      <td>26.0</td>\n",
       "      <td>0</td>\n",
       "      <td>0</td>\n",
       "      <td>STON/O2. 3101282</td>\n",
       "      <td>7.9250</td>\n",
       "      <td>NaN</td>\n",
       "      <td>S</td>\n",
       "    </tr>\n",
       "    <tr>\n",
       "      <th>3</th>\n",
       "      <td>4</td>\n",
       "      <td>1</td>\n",
       "      <td>1</td>\n",
       "      <td>Futrelle, Mrs. Jacques Heath (Lily May Peel)</td>\n",
       "      <td>female</td>\n",
       "      <td>35.0</td>\n",
       "      <td>1</td>\n",
       "      <td>0</td>\n",
       "      <td>113803</td>\n",
       "      <td>53.1000</td>\n",
       "      <td>C123</td>\n",
       "      <td>S</td>\n",
       "    </tr>\n",
       "    <tr>\n",
       "      <th>4</th>\n",
       "      <td>5</td>\n",
       "      <td>0</td>\n",
       "      <td>3</td>\n",
       "      <td>Allen, Mr. William Henry</td>\n",
       "      <td>male</td>\n",
       "      <td>35.0</td>\n",
       "      <td>0</td>\n",
       "      <td>0</td>\n",
       "      <td>373450</td>\n",
       "      <td>8.0500</td>\n",
       "      <td>NaN</td>\n",
       "      <td>S</td>\n",
       "    </tr>\n",
       "  </tbody>\n",
       "</table>\n",
       "</div>"
      ],
      "text/plain": [
       "   PassengerId  Survived  Pclass  \\\n",
       "0            1         0       3   \n",
       "1            2         1       1   \n",
       "2            3         1       3   \n",
       "3            4         1       1   \n",
       "4            5         0       3   \n",
       "\n",
       "                                                Name     Sex   Age  SibSp  \\\n",
       "0                            Braund, Mr. Owen Harris    male  22.0      1   \n",
       "1  Cumings, Mrs. John Bradley (Florence Briggs Th...  female  38.0      1   \n",
       "2                             Heikkinen, Miss. Laina  female  26.0      0   \n",
       "3       Futrelle, Mrs. Jacques Heath (Lily May Peel)  female  35.0      1   \n",
       "4                           Allen, Mr. William Henry    male  35.0      0   \n",
       "\n",
       "   Parch            Ticket     Fare Cabin Embarked  \n",
       "0      0         A/5 21171   7.2500   NaN        S  \n",
       "1      0          PC 17599  71.2833   C85        C  \n",
       "2      0  STON/O2. 3101282   7.9250   NaN        S  \n",
       "3      0            113803  53.1000  C123        S  \n",
       "4      0            373450   8.0500   NaN        S  "
      ]
     },
     "execution_count": 9,
     "metadata": {},
     "output_type": "execute_result"
    }
   ],
   "source": [
    "#checking the head of the training data to see what is given\n",
    "train_data.head()"
   ]
  },
  {
   "cell_type": "code",
   "execution_count": 10,
   "id": "008b066a",
   "metadata": {
    "execution": {
     "iopub.execute_input": "2021-09-04T11:17:15.681679Z",
     "iopub.status.busy": "2021-09-04T11:17:15.673579Z",
     "iopub.status.idle": "2021-09-04T11:17:16.186101Z",
     "shell.execute_reply": "2021-09-04T11:17:16.185536Z",
     "shell.execute_reply.started": "2021-09-04T10:43:00.688402Z"
    },
    "papermill": {
     "duration": 0.550424,
     "end_time": "2021-09-04T11:17:16.186300",
     "exception": false,
     "start_time": "2021-09-04T11:17:15.635876",
     "status": "completed"
    },
    "tags": []
   },
   "outputs": [
    {
     "data": {
      "text/plain": [
       "<AxesSubplot:>"
      ]
     },
     "execution_count": 10,
     "metadata": {},
     "output_type": "execute_result"
    },
    {
     "data": {
      "image/png": "[encoded data removed]",
      "text/plain": [
       "<Figure size 432x288 with 2 Axes>"
      ]
     },
     "metadata": {
      "needs_background": "light"
     },
     "output_type": "display_data"
    }
   ],
   "source": [
    "#plotting the heat map to see which values are null\n",
    "sns.heatmap(train_data.isnull())\n"
   ]
  },
  {
   "cell_type": "code",
   "execution_count": 11,
   "id": "6b2fa7d5",
   "metadata": {
    "execution": {
     "iopub.execute_input": "2021-09-04T11:17:16.254649Z",
     "iopub.status.busy": "2021-09-04T11:17:16.253955Z",
     "iopub.status.idle": "2021-09-04T11:17:16.256166Z",
     "shell.execute_reply": "2021-09-04T11:17:16.256758Z",
     "shell.execute_reply.started": "2021-09-04T10:43:01.802769Z"
    },
    "papermill": {
     "duration": 0.038386,
     "end_time": "2021-09-04T11:17:16.256948",
     "exception": false,
     "start_time": "2021-09-04T11:17:16.218562",
     "status": "completed"
    },
    "tags": []
   },
   "outputs": [],
   "source": [
    "sns.set_style('whitegrid')"
   ]
  },
  {
   "cell_type": "code",
   "execution_count": 7,
   "id": "86aa858a",
   "metadata": {
    "execution": {
     "iopub.execute_input": "2021-09-04T11:17:16.321868Z",
     "iopub.status.busy": "2021-09-04T11:17:16.321129Z",
     "iopub.status.idle": "2021-09-04T11:17:16.346991Z",
     "shell.execute_reply": "2021-09-04T11:17:16.347530Z",
     "shell.execute_reply.started": "2021-09-04T10:43:01.810884Z"
    },
    "papermill": {
     "duration": 0.06098,
     "end_time": "2021-09-04T11:17:16.347724",
     "exception": false,
     "start_time": "2021-09-04T11:17:16.286744",
     "status": "completed"
    },
    "tags": []
   },
   "outputs": [
    {
     "name": "stdout",
     "output_type": "stream",
     "text": [
      "<class 'pandas.core.frame.DataFrame'>\n",
      "RangeIndex: 891 entries, 0 to 890\n",
      "Data columns (total 12 columns):\n",
      " #   Column       Non-Null Count  Dtype  \n",
      "---  ------       --------------  -----  \n",
      " 0   PassengerId  891 non-null    int64  \n",
      " 1   Survived     891 non-null    int64  \n",
      " 2   Pclass       891 non-null    int64  \n",
      " 3   Name         891 non-null    object \n",
      " 4   Sex          891 non-null    object \n",
      " 5   Age          714 non-null    float64\n",
      " 6   SibSp        891 non-null    int64  \n",
      " 7   Parch        891 non-null    int64  \n",
      " 8   Ticket       891 non-null    object \n",
      " 9   Fare         891 non-null    float64\n",
      " 10  Cabin        204 non-null    object \n",
      " 11  Embarked     889 non-null    object \n",
      "dtypes: float64(2), int64(5), object(5)\n",
      "memory usage: 83.7+ KB\n"
     ]
    }
   ],
   "source": [
    "#checking the number of null values in the training data\n",
    "train_data.info()"
   ]
  },
  {
   "cell_type": "code",
   "execution_count": 8,
   "id": "41d65745",
   "metadata": {
    "execution": {
     "iopub.execute_input": "2021-09-04T11:17:16.446759Z",
     "iopub.status.busy": "2021-09-04T11:17:16.420589Z",
     "iopub.status.idle": "2021-09-04T11:17:16.602976Z",
     "shell.execute_reply": "2021-09-04T11:17:16.603521Z",
     "shell.execute_reply.started": "2021-09-04T10:43:01.990005Z"
    },
    "papermill": {
     "duration": 0.224225,
     "end_time": "2021-09-04T11:17:16.603699",
     "exception": false,
     "start_time": "2021-09-04T11:17:16.379474",
     "status": "completed"
    },
    "tags": []
   },
   "outputs": [
    {
     "data": {
      "text/plain": [
       "<AxesSubplot:xlabel='Survived', ylabel='count'>"
      ]
     },
     "execution_count": 8,
     "metadata": {},
     "output_type": "execute_result"
    },
    {
     "data": {
      "image/png": "[encoded data removed]",
      "text/plain": [
       "<Figure size 432x288 with 1 Axes>"
      ]
     },
     "metadata": {},
     "output_type": "display_data"
    }
   ],
   "source": [
    "#making a countplot to see the ratio in sex of survival\n",
    "sns.countplot(x='Survived',hue='Sex',data=train_data)"
   ]
  },
  {
   "cell_type": "code",
   "execution_count": 9,
   "id": "457e89c2",
   "metadata": {
    "execution": {
     "iopub.execute_input": "2021-09-04T11:17:16.672934Z",
     "iopub.status.busy": "2021-09-04T11:17:16.672285Z",
     "iopub.status.idle": "2021-09-04T11:17:16.895422Z",
     "shell.execute_reply": "2021-09-04T11:17:16.895929Z",
     "shell.execute_reply.started": "2021-09-04T10:43:05.93654Z"
    },
    "papermill": {
     "duration": 0.25942,
     "end_time": "2021-09-04T11:17:16.896139",
     "exception": false,
     "start_time": "2021-09-04T11:17:16.636719",
     "status": "completed"
    },
    "tags": []
   },
   "outputs": [
    {
     "data": {
      "text/plain": [
       "<AxesSubplot:xlabel='Pclass', ylabel='Age'>"
      ]
     },
     "execution_count": 9,
     "metadata": {},
     "output_type": "execute_result"
    },
    {
     "data": {
      "image/png": "[encoded data removed]",
      "text/plain": [
       "<Figure size 432x288 with 1 Axes>"
      ]
     },
     "metadata": {},
     "output_type": "display_data"
    }
   ],
   "source": [
    "#few age columns are missing therefore using boxplot to find the average of people\n",
    "sns.boxplot(x='Pclass',y='Age',data=train_data)"
   ]
  },
  {
   "cell_type": "code",
   "execution_count": 10,
   "id": "91cd416c",
   "metadata": {
    "execution": {
     "iopub.execute_input": "2021-09-04T11:17:16.970573Z",
     "iopub.status.busy": "2021-09-04T11:17:16.969834Z",
     "iopub.status.idle": "2021-09-04T11:17:16.973258Z",
     "shell.execute_reply": "2021-09-04T11:17:16.972707Z",
     "shell.execute_reply.started": "2021-09-04T10:43:06.767358Z"
    },
    "papermill": {
     "duration": 0.04357,
     "end_time": "2021-09-04T11:17:16.973430",
     "exception": false,
     "start_time": "2021-09-04T11:17:16.929860",
     "status": "completed"
    },
    "tags": []
   },
   "outputs": [],
   "source": [
    "#assigning average of ages of each Pclass to null values\n",
    "def impute_age(cols):\n",
    "    Age = cols[0]\n",
    "    Pclass = cols[1]\n",
    "    if pd.isnull(Age):\n",
    "        if Pclass==1:\n",
    "            return 37\n",
    "        elif Pclass==2:\n",
    "            return 28\n",
    "        else:\n",
    "            return 24\n",
    "    else:\n",
    "        return Age"
   ]
  },
  {
   "cell_type": "code",
   "execution_count": 11,
   "id": "97e70f74",
   "metadata": {
    "execution": {
     "iopub.execute_input": "2021-09-04T11:17:17.046086Z",
     "iopub.status.busy": "2021-09-04T11:17:17.045410Z",
     "iopub.status.idle": "2021-09-04T11:17:17.087075Z",
     "shell.execute_reply": "2021-09-04T11:17:17.086526Z",
     "shell.execute_reply.started": "2021-09-04T10:43:07.536609Z"
    },
    "papermill": {
     "duration": 0.081281,
     "end_time": "2021-09-04T11:17:17.087276",
     "exception": false,
     "start_time": "2021-09-04T11:17:17.005995",
     "status": "completed"
    },
    "tags": []
   },
   "outputs": [
    {
     "data": {
      "text/html": [
       "<div>\n",
       "<style scoped>\n",
       "    .dataframe tbody tr th:only-of-type {\n",
       "        vertical-align: middle;\n",
       "    }\n",
       "\n",
       "    .dataframe tbody tr th {\n",
       "        vertical-align: top;\n",
       "    }\n",
       "\n",
       "    .dataframe thead th {\n",
       "        text-align: right;\n",
       "    }\n",
       "</style>\n",
       "<table border=\"1\" class=\"dataframe\">\n",
       "  <thead>\n",
       "    <tr style=\"text-align: right;\">\n",
       "      <th></th>\n",
       "      <th>PassengerId</th>\n",
       "      <th>Pclass</th>\n",
       "      <th>Name</th>\n",
       "      <th>Sex</th>\n",
       "      <th>Age</th>\n",
       "      <th>SibSp</th>\n",
       "      <th>Parch</th>\n",
       "      <th>Ticket</th>\n",
       "      <th>Fare</th>\n",
       "      <th>Cabin</th>\n",
       "      <th>Embarked</th>\n",
       "    </tr>\n",
       "  </thead>\n",
       "  <tbody>\n",
       "    <tr>\n",
       "      <th>0</th>\n",
       "      <td>892</td>\n",
       "      <td>3</td>\n",
       "      <td>Kelly, Mr. James</td>\n",
       "      <td>male</td>\n",
       "      <td>34.5</td>\n",
       "      <td>0</td>\n",
       "      <td>0</td>\n",
       "      <td>330911</td>\n",
       "      <td>7.8292</td>\n",
       "      <td>NaN</td>\n",
       "      <td>Q</td>\n",
       "    </tr>\n",
       "    <tr>\n",
       "      <th>1</th>\n",
       "      <td>893</td>\n",
       "      <td>3</td>\n",
       "      <td>Wilkes, Mrs. James (Ellen Needs)</td>\n",
       "      <td>female</td>\n",
       "      <td>47.0</td>\n",
       "      <td>1</td>\n",
       "      <td>0</td>\n",
       "      <td>363272</td>\n",
       "      <td>7.0000</td>\n",
       "      <td>NaN</td>\n",
       "      <td>S</td>\n",
       "    </tr>\n",
       "    <tr>\n",
       "      <th>2</th>\n",
       "      <td>894</td>\n",
       "      <td>2</td>\n",
       "      <td>Myles, Mr. Thomas Francis</td>\n",
       "      <td>male</td>\n",
       "      <td>62.0</td>\n",
       "      <td>0</td>\n",
       "      <td>0</td>\n",
       "      <td>240276</td>\n",
       "      <td>9.6875</td>\n",
       "      <td>NaN</td>\n",
       "      <td>Q</td>\n",
       "    </tr>\n",
       "    <tr>\n",
       "      <th>3</th>\n",
       "      <td>895</td>\n",
       "      <td>3</td>\n",
       "      <td>Wirz, Mr. Albert</td>\n",
       "      <td>male</td>\n",
       "      <td>27.0</td>\n",
       "      <td>0</td>\n",
       "      <td>0</td>\n",
       "      <td>315154</td>\n",
       "      <td>8.6625</td>\n",
       "      <td>NaN</td>\n",
       "      <td>S</td>\n",
       "    </tr>\n",
       "    <tr>\n",
       "      <th>4</th>\n",
       "      <td>896</td>\n",
       "      <td>3</td>\n",
       "      <td>Hirvonen, Mrs. Alexander (Helga E Lindqvist)</td>\n",
       "      <td>female</td>\n",
       "      <td>22.0</td>\n",
       "      <td>1</td>\n",
       "      <td>1</td>\n",
       "      <td>3101298</td>\n",
       "      <td>12.2875</td>\n",
       "      <td>NaN</td>\n",
       "      <td>S</td>\n",
       "    </tr>\n",
       "  </tbody>\n",
       "</table>\n",
       "</div>"
      ],
      "text/plain": [
       "   PassengerId  Pclass                                          Name     Sex  \\\n",
       "0          892       3                              Kelly, Mr. James    male   \n",
       "1          893       3              Wilkes, Mrs. James (Ellen Needs)  female   \n",
       "2          894       2                     Myles, Mr. Thomas Francis    male   \n",
       "3          895       3                              Wirz, Mr. Albert    male   \n",
       "4          896       3  Hirvonen, Mrs. Alexander (Helga E Lindqvist)  female   \n",
       "\n",
       "    Age  SibSp  Parch   Ticket     Fare Cabin Embarked  \n",
       "0  34.5      0      0   330911   7.8292   NaN        Q  \n",
       "1  47.0      1      0   363272   7.0000   NaN        S  \n",
       "2  62.0      0      0   240276   9.6875   NaN        Q  \n",
       "3  27.0      0      0   315154   8.6625   NaN        S  \n",
       "4  22.0      1      1  3101298  12.2875   NaN        S  "
      ]
     },
     "execution_count": 11,
     "metadata": {},
     "output_type": "execute_result"
    }
   ],
   "source": [
    "train_data['Age']=train_data[['Age','Pclass']].apply(impute_age,axis=1)\n",
    "test_data['Age']=test_data[['Age','Pclass']].apply(impute_age,axis=1)\n",
    "test_data.head()"
   ]
  },
  {
   "cell_type": "code",
   "execution_count": 12,
   "id": "75223c9f",
   "metadata": {
    "execution": {
     "iopub.execute_input": "2021-09-04T11:17:17.163829Z",
     "iopub.status.busy": "2021-09-04T11:17:17.163038Z",
     "iopub.status.idle": "2021-09-04T11:17:17.166536Z",
     "shell.execute_reply": "2021-09-04T11:17:17.165859Z",
     "shell.execute_reply.started": "2021-09-04T10:43:08.319805Z"
    },
    "papermill": {
     "duration": 0.045029,
     "end_time": "2021-09-04T11:17:17.166709",
     "exception": false,
     "start_time": "2021-09-04T11:17:17.121680",
     "status": "completed"
    },
    "tags": []
   },
   "outputs": [],
   "source": [
    "#Cabin column has huge number of null values therefore not using that data set\n",
    "train_data.drop('Cabin',inplace = True, axis =1)\n",
    "test_data.drop('Cabin',inplace = True, axis =1)"
   ]
  },
  {
   "cell_type": "code",
   "execution_count": 13,
   "id": "106edf28",
   "metadata": {
    "execution": {
     "iopub.execute_input": "2021-09-04T11:17:17.243664Z",
     "iopub.status.busy": "2021-09-04T11:17:17.242921Z",
     "iopub.status.idle": "2021-09-04T11:17:17.264964Z",
     "shell.execute_reply": "2021-09-04T11:17:17.265553Z",
     "shell.execute_reply.started": "2021-09-04T10:43:08.974374Z"
    },
    "papermill": {
     "duration": 0.064282,
     "end_time": "2021-09-04T11:17:17.265763",
     "exception": false,
     "start_time": "2021-09-04T11:17:17.201481",
     "status": "completed"
    },
    "tags": []
   },
   "outputs": [
    {
     "name": "stdout",
     "output_type": "stream",
     "text": [
      "<class 'pandas.core.frame.DataFrame'>\n",
      "RangeIndex: 891 entries, 0 to 890\n",
      "Data columns (total 14 columns):\n",
      " #   Column       Non-Null Count  Dtype  \n",
      "---  ------       --------------  -----  \n",
      " 0   PassengerId  891 non-null    int64  \n",
      " 1   Survived     891 non-null    int64  \n",
      " 2   Pclass       891 non-null    int64  \n",
      " 3   Name         891 non-null    object \n",
      " 4   Sex          891 non-null    object \n",
      " 5   Age          891 non-null    float64\n",
      " 6   SibSp        891 non-null    int64  \n",
      " 7   Parch        891 non-null    int64  \n",
      " 8   Ticket       891 non-null    object \n",
      " 9   Fare         891 non-null    float64\n",
      " 10  Embarked     889 non-null    object \n",
      " 11  male         891 non-null    uint8  \n",
      " 12  Q            891 non-null    uint8  \n",
      " 13  S            891 non-null    uint8  \n",
      "dtypes: float64(2), int64(5), object(4), uint8(3)\n",
      "memory usage: 79.3+ KB\n"
     ]
    }
   ],
   "source": [
    "#assigining numeric/binomial values to Sex and Embarked on train and test data\n",
    "sex = pd.get_dummies(train_data['Sex'],drop_first=True)\n",
    "embark = pd.get_dummies(train_data['Embarked'],drop_first=True)\n",
    "train_data= pd.concat([train_data,sex,embark],axis=1)\n",
    "train_data.head()\n",
    "train_data.info()"
   ]
  },
  {
   "cell_type": "code",
   "execution_count": 14,
   "id": "cf7b65cb",
   "metadata": {
    "execution": {
     "iopub.execute_input": "2021-09-04T11:17:17.339263Z",
     "iopub.status.busy": "2021-09-04T11:17:17.338584Z",
     "iopub.status.idle": "2021-09-04T11:17:17.357362Z",
     "shell.execute_reply": "2021-09-04T11:17:17.358124Z",
     "shell.execute_reply.started": "2021-09-04T10:43:09.64872Z"
    },
    "papermill": {
     "duration": 0.059137,
     "end_time": "2021-09-04T11:17:17.358414",
     "exception": false,
     "start_time": "2021-09-04T11:17:17.299277",
     "status": "completed"
    },
    "tags": []
   },
   "outputs": [
    {
     "name": "stdout",
     "output_type": "stream",
     "text": [
      "<class 'pandas.core.frame.DataFrame'>\n",
      "RangeIndex: 418 entries, 0 to 417\n",
      "Data columns (total 13 columns):\n",
      " #   Column       Non-Null Count  Dtype  \n",
      "---  ------       --------------  -----  \n",
      " 0   PassengerId  418 non-null    int64  \n",
      " 1   Pclass       418 non-null    int64  \n",
      " 2   Name         418 non-null    object \n",
      " 3   Sex          418 non-null    object \n",
      " 4   Age          418 non-null    float64\n",
      " 5   SibSp        418 non-null    int64  \n",
      " 6   Parch        418 non-null    int64  \n",
      " 7   Ticket       418 non-null    object \n",
      " 8   Fare         417 non-null    float64\n",
      " 9   Embarked     418 non-null    object \n",
      " 10  male         418 non-null    uint8  \n",
      " 11  Q            418 non-null    uint8  \n",
      " 12  S            418 non-null    uint8  \n",
      "dtypes: float64(2), int64(4), object(4), uint8(3)\n",
      "memory usage: 34.0+ KB\n"
     ]
    }
   ],
   "source": [
    "sex = pd.get_dummies(test_data['Sex'],drop_first=True)\n",
    "embark = pd.get_dummies(test_data['Embarked'],drop_first=True)\n",
    "test_data= pd.concat([test_data,sex,embark],axis=1)\n",
    "test_data.head()\n",
    "test_data.info()"
   ]
  },
  {
   "cell_type": "code",
   "execution_count": 15,
   "id": "37a7e0ab",
   "metadata": {
    "execution": {
     "iopub.execute_input": "2021-09-04T11:17:17.432570Z",
     "iopub.status.busy": "2021-09-04T11:17:17.431898Z",
     "iopub.status.idle": "2021-09-04T11:17:17.437319Z",
     "shell.execute_reply": "2021-09-04T11:17:17.436761Z",
     "shell.execute_reply.started": "2021-09-04T10:43:11.253891Z"
    },
    "papermill": {
     "duration": 0.044482,
     "end_time": "2021-09-04T11:17:17.437475",
     "exception": false,
     "start_time": "2021-09-04T11:17:17.392993",
     "status": "completed"
    },
    "tags": []
   },
   "outputs": [],
   "source": [
    "#Removing the columns with no numeric values\n",
    "train_data.drop(['Sex','PassengerId','Name','Ticket','Embarked'],inplace =True,axis=1)"
   ]
  },
  {
   "cell_type": "code",
   "execution_count": 16,
   "id": "8aad6ce2",
   "metadata": {
    "execution": {
     "iopub.execute_input": "2021-09-04T11:17:17.521532Z",
     "iopub.status.busy": "2021-09-04T11:17:17.520529Z",
     "iopub.status.idle": "2021-09-04T11:17:17.525516Z",
     "shell.execute_reply": "2021-09-04T11:17:17.524862Z",
     "shell.execute_reply.started": "2021-09-04T10:43:12.660932Z"
    },
    "papermill": {
     "duration": 0.053179,
     "end_time": "2021-09-04T11:17:17.525676",
     "exception": false,
     "start_time": "2021-09-04T11:17:17.472497",
     "status": "completed"
    },
    "tags": []
   },
   "outputs": [
    {
     "data": {
      "text/html": [
       "<div>\n",
       "<style scoped>\n",
       "    .dataframe tbody tr th:only-of-type {\n",
       "        vertical-align: middle;\n",
       "    }\n",
       "\n",
       "    .dataframe tbody tr th {\n",
       "        vertical-align: top;\n",
       "    }\n",
       "\n",
       "    .dataframe thead th {\n",
       "        text-align: right;\n",
       "    }\n",
       "</style>\n",
       "<table border=\"1\" class=\"dataframe\">\n",
       "  <thead>\n",
       "    <tr style=\"text-align: right;\">\n",
       "      <th></th>\n",
       "      <th>Survived</th>\n",
       "      <th>Pclass</th>\n",
       "      <th>Age</th>\n",
       "      <th>SibSp</th>\n",
       "      <th>Parch</th>\n",
       "      <th>Fare</th>\n",
       "      <th>male</th>\n",
       "      <th>Q</th>\n",
       "      <th>S</th>\n",
       "    </tr>\n",
       "  </thead>\n",
       "  <tbody>\n",
       "    <tr>\n",
       "      <th>0</th>\n",
       "      <td>0</td>\n",
       "      <td>3</td>\n",
       "      <td>22.0</td>\n",
       "      <td>1</td>\n",
       "      <td>0</td>\n",
       "      <td>7.2500</td>\n",
       "      <td>1</td>\n",
       "      <td>0</td>\n",
       "      <td>1</td>\n",
       "    </tr>\n",
       "    <tr>\n",
       "      <th>1</th>\n",
       "      <td>1</td>\n",
       "      <td>1</td>\n",
       "      <td>38.0</td>\n",
       "      <td>1</td>\n",
       "      <td>0</td>\n",
       "      <td>71.2833</td>\n",
       "      <td>0</td>\n",
       "      <td>0</td>\n",
       "      <td>0</td>\n",
       "    </tr>\n",
       "    <tr>\n",
       "      <th>2</th>\n",
       "      <td>1</td>\n",
       "      <td>3</td>\n",
       "      <td>26.0</td>\n",
       "      <td>0</td>\n",
       "      <td>0</td>\n",
       "      <td>7.9250</td>\n",
       "      <td>0</td>\n",
       "      <td>0</td>\n",
       "      <td>1</td>\n",
       "    </tr>\n",
       "    <tr>\n",
       "      <th>3</th>\n",
       "      <td>1</td>\n",
       "      <td>1</td>\n",
       "      <td>35.0</td>\n",
       "      <td>1</td>\n",
       "      <td>0</td>\n",
       "      <td>53.1000</td>\n",
       "      <td>0</td>\n",
       "      <td>0</td>\n",
       "      <td>1</td>\n",
       "    </tr>\n",
       "    <tr>\n",
       "      <th>4</th>\n",
       "      <td>0</td>\n",
       "      <td>3</td>\n",
       "      <td>35.0</td>\n",
       "      <td>0</td>\n",
       "      <td>0</td>\n",
       "      <td>8.0500</td>\n",
       "      <td>1</td>\n",
       "      <td>0</td>\n",
       "      <td>1</td>\n",
       "    </tr>\n",
       "  </tbody>\n",
       "</table>\n",
       "</div>"
      ],
      "text/plain": [
       "   Survived  Pclass   Age  SibSp  Parch     Fare  male  Q  S\n",
       "0         0       3  22.0      1      0   7.2500     1  0  1\n",
       "1         1       1  38.0      1      0  71.2833     0  0  0\n",
       "2         1       3  26.0      0      0   7.9250     0  0  1\n",
       "3         1       1  35.0      1      0  53.1000     0  0  1\n",
       "4         0       3  35.0      0      0   8.0500     1  0  1"
      ]
     },
     "execution_count": 16,
     "metadata": {},
     "output_type": "execute_result"
    }
   ],
   "source": [
    "train_data.head()"
   ]
  },
  {
   "cell_type": "code",
   "execution_count": 17,
   "id": "2acd5c57",
   "metadata": {
    "execution": {
     "iopub.execute_input": "2021-09-04T11:17:17.601781Z",
     "iopub.status.busy": "2021-09-04T11:17:17.600575Z",
     "iopub.status.idle": "2021-09-04T11:17:17.605413Z",
     "shell.execute_reply": "2021-09-04T11:17:17.604748Z",
     "shell.execute_reply.started": "2021-09-04T10:43:13.916628Z"
    },
    "papermill": {
     "duration": 0.045092,
     "end_time": "2021-09-04T11:17:17.605573",
     "exception": false,
     "start_time": "2021-09-04T11:17:17.560481",
     "status": "completed"
    },
    "tags": []
   },
   "outputs": [],
   "source": [
    "test_data.drop(['Sex','PassengerId','Name','Ticket','Embarked'],inplace =True,axis=1)"
   ]
  },
  {
   "cell_type": "code",
   "execution_count": 18,
   "id": "ff9780e3",
   "metadata": {
    "execution": {
     "iopub.execute_input": "2021-09-04T11:17:17.688218Z",
     "iopub.status.busy": "2021-09-04T11:17:17.687528Z",
     "iopub.status.idle": "2021-09-04T11:17:17.692497Z",
     "shell.execute_reply": "2021-09-04T11:17:17.691866Z",
     "shell.execute_reply.started": "2021-09-04T10:43:14.458392Z"
    },
    "papermill": {
     "duration": 0.052593,
     "end_time": "2021-09-04T11:17:17.692660",
     "exception": false,
     "start_time": "2021-09-04T11:17:17.640067",
     "status": "completed"
    },
    "tags": []
   },
   "outputs": [
    {
     "data": {
      "text/html": [
       "<div>\n",
       "<style scoped>\n",
       "    .dataframe tbody tr th:only-of-type {\n",
       "        vertical-align: middle;\n",
       "    }\n",
       "\n",
       "    .dataframe tbody tr th {\n",
       "        vertical-align: top;\n",
       "    }\n",
       "\n",
       "    .dataframe thead th {\n",
       "        text-align: right;\n",
       "    }\n",
       "</style>\n",
       "<table border=\"1\" class=\"dataframe\">\n",
       "  <thead>\n",
       "    <tr style=\"text-align: right;\">\n",
       "      <th></th>\n",
       "      <th>Pclass</th>\n",
       "      <th>Age</th>\n",
       "      <th>SibSp</th>\n",
       "      <th>Parch</th>\n",
       "      <th>Fare</th>\n",
       "      <th>male</th>\n",
       "      <th>Q</th>\n",
       "      <th>S</th>\n",
       "    </tr>\n",
       "  </thead>\n",
       "  <tbody>\n",
       "    <tr>\n",
       "      <th>0</th>\n",
       "      <td>3</td>\n",
       "      <td>34.5</td>\n",
       "      <td>0</td>\n",
       "      <td>0</td>\n",
       "      <td>7.8292</td>\n",
       "      <td>1</td>\n",
       "      <td>1</td>\n",
       "      <td>0</td>\n",
       "    </tr>\n",
       "    <tr>\n",
       "      <th>1</th>\n",
       "      <td>3</td>\n",
       "      <td>47.0</td>\n",
       "      <td>1</td>\n",
       "      <td>0</td>\n",
       "      <td>7.0000</td>\n",
       "      <td>0</td>\n",
       "      <td>0</td>\n",
       "      <td>1</td>\n",
       "    </tr>\n",
       "    <tr>\n",
       "      <th>2</th>\n",
       "      <td>2</td>\n",
       "      <td>62.0</td>\n",
       "      <td>0</td>\n",
       "      <td>0</td>\n",
       "      <td>9.6875</td>\n",
       "      <td>1</td>\n",
       "      <td>1</td>\n",
       "      <td>0</td>\n",
       "    </tr>\n",
       "    <tr>\n",
       "      <th>3</th>\n",
       "      <td>3</td>\n",
       "      <td>27.0</td>\n",
       "      <td>0</td>\n",
       "      <td>0</td>\n",
       "      <td>8.6625</td>\n",
       "      <td>1</td>\n",
       "      <td>0</td>\n",
       "      <td>1</td>\n",
       "    </tr>\n",
       "    <tr>\n",
       "      <th>4</th>\n",
       "      <td>3</td>\n",
       "      <td>22.0</td>\n",
       "      <td>1</td>\n",
       "      <td>1</td>\n",
       "      <td>12.2875</td>\n",
       "      <td>0</td>\n",
       "      <td>0</td>\n",
       "      <td>1</td>\n",
       "    </tr>\n",
       "  </tbody>\n",
       "</table>\n",
       "</div>"
      ],
      "text/plain": [
       "   Pclass   Age  SibSp  Parch     Fare  male  Q  S\n",
       "0       3  34.5      0      0   7.8292     1  1  0\n",
       "1       3  47.0      1      0   7.0000     0  0  1\n",
       "2       2  62.0      0      0   9.6875     1  1  0\n",
       "3       3  27.0      0      0   8.6625     1  0  1\n",
       "4       3  22.0      1      1  12.2875     0  0  1"
      ]
     },
     "execution_count": 18,
     "metadata": {},
     "output_type": "execute_result"
    }
   ],
   "source": [
    "test_data.head()"
   ]
  },
  {
   "cell_type": "code",
   "execution_count": 19,
   "id": "39f760ea",
   "metadata": {
    "execution": {
     "iopub.execute_input": "2021-09-04T11:17:17.779303Z",
     "iopub.status.busy": "2021-09-04T11:17:17.772918Z",
     "iopub.status.idle": "2021-09-04T11:17:17.784793Z",
     "shell.execute_reply": "2021-09-04T11:17:17.784270Z",
     "shell.execute_reply.started": "2021-09-04T10:43:15.453195Z"
    },
    "papermill": {
     "duration": 0.056711,
     "end_time": "2021-09-04T11:17:17.784951",
     "exception": false,
     "start_time": "2021-09-04T11:17:17.728240",
     "status": "completed"
    },
    "tags": []
   },
   "outputs": [
    {
     "name": "stdout",
     "output_type": "stream",
     "text": [
      "<class 'pandas.core.frame.DataFrame'>\n",
      "RangeIndex: 891 entries, 0 to 890\n",
      "Data columns (total 9 columns):\n",
      " #   Column    Non-Null Count  Dtype  \n",
      "---  ------    --------------  -----  \n",
      " 0   Survived  891 non-null    int64  \n",
      " 1   Pclass    891 non-null    int64  \n",
      " 2   Age       891 non-null    float64\n",
      " 3   SibSp     891 non-null    int64  \n",
      " 4   Parch     891 non-null    int64  \n",
      " 5   Fare      891 non-null    float64\n",
      " 6   male      891 non-null    uint8  \n",
      " 7   Q         891 non-null    uint8  \n",
      " 8   S         891 non-null    uint8  \n",
      "dtypes: float64(2), int64(4), uint8(3)\n",
      "memory usage: 44.5 KB\n"
     ]
    }
   ],
   "source": [
    "train_data.info()"
   ]
  },
  {
   "cell_type": "code",
   "execution_count": 20,
   "id": "0dbf8da1",
   "metadata": {
    "execution": {
     "iopub.execute_input": "2021-09-04T11:17:17.862221Z",
     "iopub.status.busy": "2021-09-04T11:17:17.861522Z",
     "iopub.status.idle": "2021-09-04T11:17:17.864103Z",
     "shell.execute_reply": "2021-09-04T11:17:17.864587Z",
     "shell.execute_reply.started": "2021-09-04T10:43:16.522266Z"
    },
    "papermill": {
     "duration": 0.044477,
     "end_time": "2021-09-04T11:17:17.864770",
     "exception": false,
     "start_time": "2021-09-04T11:17:17.820293",
     "status": "completed"
    },
    "tags": []
   },
   "outputs": [],
   "source": [
    "x=train_data.drop('Survived',axis=1)"
   ]
  },
  {
   "cell_type": "code",
   "execution_count": 21,
   "id": "e38e70d4",
   "metadata": {
    "execution": {
     "iopub.execute_input": "2021-09-04T11:17:17.942918Z",
     "iopub.status.busy": "2021-09-04T11:17:17.942092Z",
     "iopub.status.idle": "2021-09-04T11:17:17.945541Z",
     "shell.execute_reply": "2021-09-04T11:17:17.944995Z",
     "shell.execute_reply.started": "2021-09-04T10:43:17.301982Z"
    },
    "papermill": {
     "duration": 0.045143,
     "end_time": "2021-09-04T11:17:17.945713",
     "exception": false,
     "start_time": "2021-09-04T11:17:17.900570",
     "status": "completed"
    },
    "tags": []
   },
   "outputs": [],
   "source": [
    "y=train_data['Survived']"
   ]
  },
  {
   "cell_type": "code",
   "execution_count": 22,
   "id": "0bfd9134",
   "metadata": {
    "execution": {
     "iopub.execute_input": "2021-09-04T11:17:18.020981Z",
     "iopub.status.busy": "2021-09-04T11:17:18.020341Z",
     "iopub.status.idle": "2021-09-04T11:17:18.227892Z",
     "shell.execute_reply": "2021-09-04T11:17:18.227278Z",
     "shell.execute_reply.started": "2021-09-04T10:43:17.707175Z"
    },
    "papermill": {
     "duration": 0.247194,
     "end_time": "2021-09-04T11:17:18.228056",
     "exception": false,
     "start_time": "2021-09-04T11:17:17.980862",
     "status": "completed"
    },
    "tags": []
   },
   "outputs": [],
   "source": [
    "#splitting training data into training set and cross validation set\n",
    "from sklearn.model_selection import train_test_split"
   ]
  },
  {
   "cell_type": "code",
   "execution_count": 23,
   "id": "a6d137f7",
   "metadata": {
    "execution": {
     "iopub.execute_input": "2021-09-04T11:17:18.307660Z",
     "iopub.status.busy": "2021-09-04T11:17:18.306966Z",
     "iopub.status.idle": "2021-09-04T11:17:18.311915Z",
     "shell.execute_reply": "2021-09-04T11:17:18.311278Z",
     "shell.execute_reply.started": "2021-09-04T10:43:17.974989Z"
    },
    "papermill": {
     "duration": 0.048293,
     "end_time": "2021-09-04T11:17:18.312074",
     "exception": false,
     "start_time": "2021-09-04T11:17:18.263781",
     "status": "completed"
    },
    "tags": []
   },
   "outputs": [],
   "source": [
    "x_train,x_cvtest,y_train,y_cvtest = train_test_split(x,y,test_size=0.3,random_state=101)"
   ]
  },
  {
   "cell_type": "code",
   "execution_count": 24,
   "id": "ca70afd4",
   "metadata": {
    "execution": {
     "iopub.execute_input": "2021-09-04T11:17:18.387077Z",
     "iopub.status.busy": "2021-09-04T11:17:18.386434Z",
     "iopub.status.idle": "2021-09-04T11:17:18.617455Z",
     "shell.execute_reply": "2021-09-04T11:17:18.616787Z",
     "shell.execute_reply.started": "2021-09-04T10:43:18.231899Z"
    },
    "papermill": {
     "duration": 0.269915,
     "end_time": "2021-09-04T11:17:18.617626",
     "exception": false,
     "start_time": "2021-09-04T11:17:18.347711",
     "status": "completed"
    },
    "tags": []
   },
   "outputs": [],
   "source": [
    "#logistic regression\n",
    "from sklearn.linear_model import LogisticRegression"
   ]
  },
  {
   "cell_type": "code",
   "execution_count": 25,
   "id": "a2d1a24e",
   "metadata": {
    "execution": {
     "iopub.execute_input": "2021-09-04T11:17:18.692472Z",
     "iopub.status.busy": "2021-09-04T11:17:18.691833Z",
     "iopub.status.idle": "2021-09-04T11:17:18.695461Z",
     "shell.execute_reply": "2021-09-04T11:17:18.694822Z",
     "shell.execute_reply.started": "2021-09-04T10:45:04.560103Z"
    },
    "papermill": {
     "duration": 0.042909,
     "end_time": "2021-09-04T11:17:18.695613",
     "exception": false,
     "start_time": "2021-09-04T11:17:18.652704",
     "status": "completed"
    },
    "tags": []
   },
   "outputs": [],
   "source": [
    "logmodel = LogisticRegression(solver = 'liblinear')"
   ]
  },
  {
   "cell_type": "code",
   "execution_count": 26,
   "id": "0250082c",
   "metadata": {
    "execution": {
     "iopub.execute_input": "2021-09-04T11:17:18.773197Z",
     "iopub.status.busy": "2021-09-04T11:17:18.772516Z",
     "iopub.status.idle": "2021-09-04T11:17:18.964022Z",
     "shell.execute_reply": "2021-09-04T11:17:18.962919Z",
     "shell.execute_reply.started": "2021-09-04T10:45:05.237082Z"
    },
    "papermill": {
     "duration": 0.233939,
     "end_time": "2021-09-04T11:17:18.964240",
     "exception": false,
     "start_time": "2021-09-04T11:17:18.730301",
     "status": "completed"
    },
    "tags": []
   },
   "outputs": [
    {
     "data": {
      "text/plain": [
       "LogisticRegression(solver='liblinear')"
      ]
     },
     "execution_count": 26,
     "metadata": {},
     "output_type": "execute_result"
    }
   ],
   "source": [
    "logmodel.fit(x_train,y_train)"
   ]
  },
  {
   "cell_type": "code",
   "execution_count": 27,
   "id": "65847c47",
   "metadata": {
    "execution": {
     "iopub.execute_input": "2021-09-04T11:17:19.043194Z",
     "iopub.status.busy": "2021-09-04T11:17:19.042508Z",
     "iopub.status.idle": "2021-09-04T11:17:19.045601Z",
     "shell.execute_reply": "2021-09-04T11:17:19.044993Z",
     "shell.execute_reply.started": "2021-09-04T10:45:06.229362Z"
    },
    "papermill": {
     "duration": 0.046185,
     "end_time": "2021-09-04T11:17:19.045757",
     "exception": false,
     "start_time": "2021-09-04T11:17:18.999572",
     "status": "completed"
    },
    "tags": []
   },
   "outputs": [],
   "source": [
    "predictions = logmodel.predict(x_cvtest)"
   ]
  },
  {
   "cell_type": "code",
   "execution_count": 28,
   "id": "a456afe4",
   "metadata": {
    "execution": {
     "iopub.execute_input": "2021-09-04T11:17:19.123175Z",
     "iopub.status.busy": "2021-09-04T11:17:19.122518Z",
     "iopub.status.idle": "2021-09-04T11:17:19.125787Z",
     "shell.execute_reply": "2021-09-04T11:17:19.126258Z",
     "shell.execute_reply.started": "2021-09-04T10:45:06.863927Z"
    },
    "papermill": {
     "duration": 0.044134,
     "end_time": "2021-09-04T11:17:19.126439",
     "exception": false,
     "start_time": "2021-09-04T11:17:19.082305",
     "status": "completed"
    },
    "tags": []
   },
   "outputs": [],
   "source": [
    "#checking errors\n",
    "from sklearn.metrics import classification_report,confusion_matrix"
   ]
  },
  {
   "cell_type": "code",
   "execution_count": 29,
   "id": "3cf6a3bf",
   "metadata": {
    "execution": {
     "iopub.execute_input": "2021-09-04T11:17:19.202336Z",
     "iopub.status.busy": "2021-09-04T11:17:19.201594Z",
     "iopub.status.idle": "2021-09-04T11:17:19.216760Z",
     "shell.execute_reply": "2021-09-04T11:17:19.216019Z",
     "shell.execute_reply.started": "2021-09-04T10:45:07.394297Z"
    },
    "papermill": {
     "duration": 0.054396,
     "end_time": "2021-09-04T11:17:19.216921",
     "exception": false,
     "start_time": "2021-09-04T11:17:19.162525",
     "status": "completed"
    },
    "tags": []
   },
   "outputs": [
    {
     "name": "stdout",
     "output_type": "stream",
     "text": [
      "              precision    recall  f1-score   support\n",
      "\n",
      "           0       0.77      0.86      0.81       154\n",
      "           1       0.78      0.65      0.71       114\n",
      "\n",
      "    accuracy                           0.77       268\n",
      "   macro avg       0.77      0.76      0.76       268\n",
      "weighted avg       0.77      0.77      0.77       268\n",
      "\n",
      "[[133  21]\n",
      " [ 40  74]]\n"
     ]
    }
   ],
   "source": [
    "print(classification_report(y_cvtest,predictions))\n",
    "print(confusion_matrix(y_cvtest,predictions))"
   ]
  },
  {
   "cell_type": "code",
   "execution_count": 30,
   "id": "6c66efda",
   "metadata": {
    "execution": {
     "iopub.execute_input": "2021-09-04T11:17:19.295718Z",
     "iopub.status.busy": "2021-09-04T11:17:19.294986Z",
     "iopub.status.idle": "2021-09-04T11:17:19.298238Z",
     "shell.execute_reply": "2021-09-04T11:17:19.297676Z",
     "shell.execute_reply.started": "2021-09-04T10:47:10.115885Z"
    },
    "papermill": {
     "duration": 0.04547,
     "end_time": "2021-09-04T11:17:19.298406",
     "exception": false,
     "start_time": "2021-09-04T11:17:19.252936",
     "status": "completed"
    },
    "tags": []
   },
   "outputs": [],
   "source": [
    "#in test data Fare column has one null value so filling it with mean of that column\n",
    "test_data['Fare'].fillna(value=test_data['Fare'].mean(),inplace = True)"
   ]
  },
  {
   "cell_type": "code",
   "execution_count": 31,
   "id": "b42b83d1",
   "metadata": {
    "execution": {
     "iopub.execute_input": "2021-09-04T11:17:19.387610Z",
     "iopub.status.busy": "2021-09-04T11:17:19.378944Z",
     "iopub.status.idle": "2021-09-04T11:17:19.393656Z",
     "shell.execute_reply": "2021-09-04T11:17:19.392651Z",
     "shell.execute_reply.started": "2021-09-04T10:47:12.815695Z"
    },
    "papermill": {
     "duration": 0.058771,
     "end_time": "2021-09-04T11:17:19.393896",
     "exception": false,
     "start_time": "2021-09-04T11:17:19.335125",
     "status": "completed"
    },
    "tags": []
   },
   "outputs": [
    {
     "name": "stdout",
     "output_type": "stream",
     "text": [
      "<class 'pandas.core.frame.DataFrame'>\n",
      "RangeIndex: 418 entries, 0 to 417\n",
      "Data columns (total 8 columns):\n",
      " #   Column  Non-Null Count  Dtype  \n",
      "---  ------  --------------  -----  \n",
      " 0   Pclass  418 non-null    int64  \n",
      " 1   Age     418 non-null    float64\n",
      " 2   SibSp   418 non-null    int64  \n",
      " 3   Parch   418 non-null    int64  \n",
      " 4   Fare    418 non-null    float64\n",
      " 5   male    418 non-null    uint8  \n",
      " 6   Q       418 non-null    uint8  \n",
      " 7   S       418 non-null    uint8  \n",
      "dtypes: float64(2), int64(3), uint8(3)\n",
      "memory usage: 17.7 KB\n"
     ]
    }
   ],
   "source": [
    "test_data.info()"
   ]
  },
  {
   "cell_type": "code",
   "execution_count": 32,
   "id": "f76a51e0",
   "metadata": {
    "execution": {
     "iopub.execute_input": "2021-09-04T11:17:19.501310Z",
     "iopub.status.busy": "2021-09-04T11:17:19.498657Z",
     "iopub.status.idle": "2021-09-04T11:17:19.949064Z",
     "shell.execute_reply": "2021-09-04T11:17:19.949571Z",
     "shell.execute_reply.started": "2021-09-04T10:47:21.212331Z"
    },
    "papermill": {
     "duration": 0.518775,
     "end_time": "2021-09-04T11:17:19.949769",
     "exception": false,
     "start_time": "2021-09-04T11:17:19.430994",
     "status": "completed"
    },
    "tags": []
   },
   "outputs": [
    {
     "data": {
      "text/plain": [
       "<AxesSubplot:>"
      ]
     },
     "execution_count": 32,
     "metadata": {},
     "output_type": "execute_result"
    },
    {
     "data": {
      "image/png": "[encoded data removed]",
      "text/plain": [
       "<Figure size 432x288 with 2 Axes>"
      ]
     },
     "metadata": {},
     "output_type": "display_data"
    }
   ],
   "source": [
    "#checking if any null value left\n",
    "sns.heatmap(test_data.isnull())"
   ]
  },
  {
   "cell_type": "code",
   "execution_count": 33,
   "id": "55b04877",
   "metadata": {
    "execution": {
     "iopub.execute_input": "2021-09-04T11:17:20.029083Z",
     "iopub.status.busy": "2021-09-04T11:17:20.028399Z",
     "iopub.status.idle": "2021-09-04T11:17:20.035313Z",
     "shell.execute_reply": "2021-09-04T11:17:20.035840Z",
     "shell.execute_reply.started": "2021-09-04T10:47:35.595503Z"
    },
    "papermill": {
     "duration": 0.048363,
     "end_time": "2021-09-04T11:17:20.036062",
     "exception": false,
     "start_time": "2021-09-04T11:17:19.987699",
     "status": "completed"
    },
    "tags": []
   },
   "outputs": [],
   "source": [
    "answer = logmodel.predict(test_data)"
   ]
  },
  {
   "cell_type": "code",
   "execution_count": 34,
   "id": "41e6f774",
   "metadata": {
    "execution": {
     "iopub.execute_input": "2021-09-04T11:17:20.116638Z",
     "iopub.status.busy": "2021-09-04T11:17:20.115879Z",
     "iopub.status.idle": "2021-09-04T11:17:20.132517Z",
     "shell.execute_reply": "2021-09-04T11:17:20.133072Z",
     "shell.execute_reply.started": "2021-09-04T10:50:35.244321Z"
    },
    "papermill": {
     "duration": 0.058799,
     "end_time": "2021-09-04T11:17:20.133273",
     "exception": false,
     "start_time": "2021-09-04T11:17:20.074474",
     "status": "completed"
    },
    "tags": []
   },
   "outputs": [
    {
     "name": "stdout",
     "output_type": "stream",
     "text": [
      "Your submission was successfully saved!\n"
     ]
    }
   ],
   "source": [
    "#submit\n",
    "p = pd.read_csv('/kaggle/input/titanic/test.csv')\n",
    "output = pd.DataFrame({'PassengerId': p.PassengerId, 'Survived': answer})\n",
    "output.to_csv('my_submission.csv', index=False)\n",
    "print(\"Your submission was successfully saved!\")"
   ]
  }
 ],
 "metadata": {
  "kernelspec": {
   "display_name": "Python 3",
   "language": "python",
   "name": "python3"
  },
  "language_info": {
   "codemirror_mode": {
    "name": "ipython",
    "version": 3
   },
   "file_extension": ".py",
   "mimetype": "text/x-python",
   "name": "python",
   "nbconvert_exporter": "python",
   "pygments_lexer": "ipython3",
   "version": "3.8.8"
  },
  "papermill": {
   "default_parameters": {},
   "duration": 15.596294,
   "end_time": "2021-09-04T11:17:21.083264",
   "environment_variables": {},
   "exception": null,
   "input_path": "__notebook__.ipynb",
   "output_path": "__notebook__.ipynb",
   "parameters": {},
   "start_time": "2021-09-04T11:17:05.486970",
   "version": "2.3.3"
  }
 },
 "nbformat": 4,
 "nbformat_minor": 5
}
